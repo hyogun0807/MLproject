{
 "cells": [
  {
   "cell_type": "code",
   "execution_count": 141,
   "id": "87b99af7-ce92-4079-98b0-81f6f254d6f6",
   "metadata": {},
   "outputs": [],
   "source": [
    "import numpy as np\n",
    "import pandas as pd\n",
    "import matplotlib.pyplot as plt\n",
    "import random\n",
    "\n",
    "from sklearn.cluster import KMeans\n",
    "from sklearn.preprocessing import MinMaxScaler\n",
    "\n",
    "import os\n",
    "\n",
    "main_dir = 'C:\\\\Users\\\\parks\\\\Desktop\\\\대학\\\\4학년 1학기\\\\ml\\\\7week'\n",
    "\n",
    "dataFrame = pd.read_csv(os.path.join(main_dir, \"Mall_Customers.csv\"))"
   ]
  },
  {
   "cell_type": "code",
   "execution_count": 142,
   "id": "54ceef59-2a40-4d3e-845a-a3450b7e680c",
   "metadata": {},
   "outputs": [],
   "source": [
    "data = dataFrame[['Annual Income (k$)', 'Spending Score (1-100)']]"
   ]
  },
  {
   "cell_type": "code",
   "execution_count": 143,
   "id": "d1d96aaa-c8b4-4464-a0b4-5e7f7dc40bb0",
   "metadata": {},
   "outputs": [],
   "source": [
    "k = 3 # Clustering 갯수"
   ]
  },
  {
   "cell_type": "code",
   "execution_count": 144,
   "id": "eeba9a9c-b613-4eea-8358-c0e23a1e2659",
   "metadata": {},
   "outputs": [],
   "source": [
    "# 그릅 수, k-means++ 방식, random_state( 난수 고정)\n",
    "model = KMeans(n_clusters = k, init='k-means++', random_state= 10)"
   ]
  },
  {
   "cell_type": "code",
   "execution_count": 145,
   "id": "d12a337b-e1d0-4d93-a623-c5aae018c4ba",
   "metadata": {},
   "outputs": [],
   "source": [
    "dataFrame['cluster'] = model.fit_predict(data)"
   ]
  },
  {
   "cell_type": "code",
   "execution_count": 146,
   "id": "65f822a0-c704-4612-911e-fb9808efff2c",
   "metadata": {},
   "outputs": [
    {
     "data": {
      "text/html": [
       "<div>\n",
       "<style scoped>\n",
       "    .dataframe tbody tr th:only-of-type {\n",
       "        vertical-align: middle;\n",
       "    }\n",
       "\n",
       "    .dataframe tbody tr th {\n",
       "        vertical-align: top;\n",
       "    }\n",
       "\n",
       "    .dataframe thead th {\n",
       "        text-align: right;\n",
       "    }\n",
       "</style>\n",
       "<table border=\"1\" class=\"dataframe\">\n",
       "  <thead>\n",
       "    <tr style=\"text-align: right;\">\n",
       "      <th></th>\n",
       "      <th>CustomerID</th>\n",
       "      <th>Gender</th>\n",
       "      <th>Age</th>\n",
       "      <th>Annual Income (k$)</th>\n",
       "      <th>Spending Score (1-100)</th>\n",
       "      <th>cluster</th>\n",
       "    </tr>\n",
       "  </thead>\n",
       "  <tbody>\n",
       "    <tr>\n",
       "      <th>0</th>\n",
       "      <td>1</td>\n",
       "      <td>Male</td>\n",
       "      <td>19</td>\n",
       "      <td>15</td>\n",
       "      <td>39</td>\n",
       "      <td>0</td>\n",
       "    </tr>\n",
       "    <tr>\n",
       "      <th>1</th>\n",
       "      <td>2</td>\n",
       "      <td>Male</td>\n",
       "      <td>21</td>\n",
       "      <td>15</td>\n",
       "      <td>81</td>\n",
       "      <td>0</td>\n",
       "    </tr>\n",
       "    <tr>\n",
       "      <th>2</th>\n",
       "      <td>3</td>\n",
       "      <td>Female</td>\n",
       "      <td>20</td>\n",
       "      <td>16</td>\n",
       "      <td>6</td>\n",
       "      <td>0</td>\n",
       "    </tr>\n",
       "    <tr>\n",
       "      <th>3</th>\n",
       "      <td>4</td>\n",
       "      <td>Female</td>\n",
       "      <td>23</td>\n",
       "      <td>16</td>\n",
       "      <td>77</td>\n",
       "      <td>0</td>\n",
       "    </tr>\n",
       "    <tr>\n",
       "      <th>4</th>\n",
       "      <td>5</td>\n",
       "      <td>Female</td>\n",
       "      <td>31</td>\n",
       "      <td>17</td>\n",
       "      <td>40</td>\n",
       "      <td>0</td>\n",
       "    </tr>\n",
       "    <tr>\n",
       "      <th>...</th>\n",
       "      <td>...</td>\n",
       "      <td>...</td>\n",
       "      <td>...</td>\n",
       "      <td>...</td>\n",
       "      <td>...</td>\n",
       "      <td>...</td>\n",
       "    </tr>\n",
       "    <tr>\n",
       "      <th>195</th>\n",
       "      <td>196</td>\n",
       "      <td>Female</td>\n",
       "      <td>35</td>\n",
       "      <td>120</td>\n",
       "      <td>79</td>\n",
       "      <td>2</td>\n",
       "    </tr>\n",
       "    <tr>\n",
       "      <th>196</th>\n",
       "      <td>197</td>\n",
       "      <td>Female</td>\n",
       "      <td>45</td>\n",
       "      <td>126</td>\n",
       "      <td>28</td>\n",
       "      <td>1</td>\n",
       "    </tr>\n",
       "    <tr>\n",
       "      <th>197</th>\n",
       "      <td>198</td>\n",
       "      <td>Male</td>\n",
       "      <td>32</td>\n",
       "      <td>126</td>\n",
       "      <td>74</td>\n",
       "      <td>2</td>\n",
       "    </tr>\n",
       "    <tr>\n",
       "      <th>198</th>\n",
       "      <td>199</td>\n",
       "      <td>Male</td>\n",
       "      <td>32</td>\n",
       "      <td>137</td>\n",
       "      <td>18</td>\n",
       "      <td>1</td>\n",
       "    </tr>\n",
       "    <tr>\n",
       "      <th>199</th>\n",
       "      <td>200</td>\n",
       "      <td>Male</td>\n",
       "      <td>30</td>\n",
       "      <td>137</td>\n",
       "      <td>83</td>\n",
       "      <td>2</td>\n",
       "    </tr>\n",
       "  </tbody>\n",
       "</table>\n",
       "<p>200 rows × 6 columns</p>\n",
       "</div>"
      ],
      "text/plain": [
       "     CustomerID  Gender  Age  Annual Income (k$)  Spending Score (1-100)  \\\n",
       "0             1    Male   19                  15                      39   \n",
       "1             2    Male   21                  15                      81   \n",
       "2             3  Female   20                  16                       6   \n",
       "3             4  Female   23                  16                      77   \n",
       "4             5  Female   31                  17                      40   \n",
       "..          ...     ...  ...                 ...                     ...   \n",
       "195         196  Female   35                 120                      79   \n",
       "196         197  Female   45                 126                      28   \n",
       "197         198    Male   32                 126                      74   \n",
       "198         199    Male   32                 137                      18   \n",
       "199         200    Male   30                 137                      83   \n",
       "\n",
       "     cluster  \n",
       "0          0  \n",
       "1          0  \n",
       "2          0  \n",
       "3          0  \n",
       "4          0  \n",
       "..       ...  \n",
       "195        2  \n",
       "196        1  \n",
       "197        2  \n",
       "198        1  \n",
       "199        2  \n",
       "\n",
       "[200 rows x 6 columns]"
      ]
     },
     "execution_count": 146,
     "metadata": {},
     "output_type": "execute_result"
    }
   ],
   "source": [
    "dataFrame"
   ]
  },
  {
   "cell_type": "code",
   "execution_count": 147,
   "id": "e2a1ad9f-9e55-40ae-89d2-4572c59a8a0e",
   "metadata": {},
   "outputs": [],
   "source": [
    "final_centroid = model.cluster_centers_"
   ]
  },
  {
   "cell_type": "code",
   "execution_count": 148,
   "id": "af95c51a-cd36-487d-8caa-41e8cd76be72",
   "metadata": {},
   "outputs": [
    {
     "name": "stdout",
     "output_type": "stream",
     "text": [
      "[[44.15447154 49.82926829]\n",
      " [87.         18.63157895]\n",
      " [86.53846154 82.12820513]]\n"
     ]
    }
   ],
   "source": [
    "# numpy. ndrray\n",
    "print(final_centroid)"
   ]
  },
  {
   "cell_type": "code",
   "execution_count": 149,
   "id": "00788825-5978-498a-a2f4-e4c7242e3b82",
   "metadata": {},
   "outputs": [
    {
     "data": {
      "image/png": "[encoded data removed]",
      "text/plain": [
       "<Figure size 576x576 with 1 Axes>"
      ]
     },
     "metadata": {
      "needs_background": "light"
     },
     "output_type": "display_data"
    }
   ],
   "source": [
    "plt.figure(figsize=(8,8))\n",
    "for i in range(k):\n",
    "    plt.scatter(dataFrame.loc[dataFrame['cluster'] == i, 'Annual Income (k$)'], dataFrame.loc[dataFrame['cluster'] == i, 'Spending Score (1-100)'], label=\"cluster_\"+str(i))\n",
    "plt.scatter(final_centroid[:,0], final_centroid[:,1], s=100, c='violet', marker='x', label=\"Centroids\")\n",
    "plt.legend()\n",
    "plt.title(f'K={k} results', size=15)\n",
    "plt.xlabel('Annual Income', size=12)\n",
    "plt.ylabel('Spending Score', size=12)\n",
    "plt.show()"
   ]
  },
  {
   "cell_type": "code",
   "execution_count": 150,
   "id": "b04e62b6-2c34-4921-8cbd-58cf82431a1a",
   "metadata": {},
   "outputs": [
    {
     "name": "stderr",
     "output_type": "stream",
     "text": [
      "C:\\Anaconda3\\lib\\site-packages\\sklearn\\cluster\\_kmeans.py:881: UserWarning: KMeans is known to have a memory leak on Windows with MKL, when there are less chunks than available threads. You can avoid it by setting the environment variable OMP_NUM_THREADS=1.\n",
      "  warnings.warn(\n"
     ]
    },
    {
     "name": "stdout",
     "output_type": "stream",
     "text": [
      "269981.28000000014\n",
      "181363.59595959607\n",
      "106348.37306211119\n",
      "73679.78903948837\n",
      "44448.45544793369\n",
      "37265.86520484345\n",
      "30259.657207285458\n",
      "25095.703209997544\n",
      "21830.04197804944\n",
      "20736.67993892413\n"
     ]
    },
    {
     "data": {
      "image/png": "[encoded data removed]",
      "text/plain": [
       "<Figure size 432x288 with 1 Axes>"
      ]
     },
     "metadata": {
      "needs_background": "light"
     },
     "output_type": "display_data"
    }
   ],
   "source": [
    "def elbow(x):\n",
    "    sse = []\n",
    "    for i in range(1, 11):\n",
    "        km = KMeans(n_clusters = i, init = 'k-means++', random_state=0)\n",
    "        km.fit(x)\n",
    "        sse.append(km.inertia_)\n",
    "        print(km.inertia_)\n",
    "    plt.plot(range(1,11), sse, marker = 'o')\n",
    "    plt.xlabel(\"# of clusters\")\n",
    "    plt.ylabel(\"Inertia\")\n",
    "    plt.show()\n",
    "elbow(data)"
   ]
  },
  {
   "cell_type": "code",
   "execution_count": 151,
   "id": "845f724b-d156-4b7a-b463-57737121df3c",
   "metadata": {},
   "outputs": [
    {
     "data": {
      "image/png": "[encoded data removed]",
      "text/plain": [
       "<Figure size 576x576 with 1 Axes>"
      ]
     },
     "metadata": {
      "needs_background": "light"
     },
     "output_type": "display_data"
    }
   ],
   "source": [
    "data['Annual Income (k$)'], data['Spending Score (1-100)']\n",
    "plt.figure(figsize=(8,8))\n",
    "plt.scatter(data['Annual Income (k$)'], data['Spending Score (1-100)'], label='unclustered data')\n",
    "plt.legend(loc = 'upper right')\n",
    "plt.xlabel('Income', size=12)\n",
    "plt.ylabel('Spending Score(1-100)', size=12)\n",
    "plt.show()"
   ]
  },
  {
   "cell_type": "code",
   "execution_count": 160,
   "id": "f99bedde-6903-4668-a856-7ee51b8bdaa2",
   "metadata": {},
   "outputs": [
    {
     "name": "stdout",
     "output_type": "stream",
     "text": [
      "rand indexes :  [64, 114, 117]\n",
      "[[48 51]\n",
      " [65 48]\n",
      " [65 59]]\n"
     ]
    }
   ],
   "source": [
    "K=3\n",
    "iteration = 100\n",
    "data_set = data.to_numpy()\n",
    "def get_random_clusters(k):\n",
    "    data_length = len(data)\n",
    "     \n",
    "    rand_indexes = [random.randrange(0, data_length) for _ in range(k)]\n",
    "    print(\"rand indexes : \",rand_indexes)\n",
    "    return data_set[rand_indexes]\n",
    "\n",
    "cluster_centroid =  get_random_clusters(k)\n",
    "print(cluster_centroid)"
   ]
  },
  {
   "cell_type": "code",
   "execution_count": 211,
   "id": "63cfc0d9-314b-4da0-b50d-2ae632a6b665",
   "metadata": {},
   "outputs": [],
   "source": [
    "def euclidean_dist(data, centroid):\n",
    "    result = list(map(lambda x: sum(x), (centroid - data) ** 2))\n",
    "    return np.argmin(result)\n",
    "def manhattan_dist():\n",
    "    pass\n",
    "\n",
    "def find_mean(cluster_list, features):\n",
    "    result = np.array([[0 for _ in range(features)] for _ in range(len(cluster_list))])\n",
    "            \n",
    "    for i in range(len(cluster_list)):\n",
    "        length = len(cluster_list[i])\n",
    "        for d in cluster_list[i]:\n",
    "            result[i] = [result[i][f] + d[f] for f in range(features)]\n",
    "            # result[i] += d\n",
    "        result[i] = [result[i][f] / length for f in range(features)]\n",
    "        # result[i] = result[i]/length\n",
    "\n",
    "    return result\n"
   ]
  },
  {
   "cell_type": "code",
   "execution_count": 247,
   "id": "c5b725df-ecd7-4292-b9a6-4cf16fd4a45e",
   "metadata": {},
   "outputs": [
    {
     "name": "stdout",
     "output_type": "stream",
     "text": [
      "[[44 49]\n",
      " [87 18]\n",
      " [86 82]]\n"
     ]
    }
   ],
   "source": [
    "def clustering(data_set, cluster_centroid, k):\n",
    "    old_list = [[] for _ in range(k)]\n",
    "    features = data_set.shape[1]\n",
    "    for i in range(iteration):\n",
    "        cluster_list = [[] for _ in range(k)]\n",
    "        \n",
    "        for d in data_set:\n",
    "            cluster_index = euclidean_dist(d,cluster_centroid)\n",
    "            cluster_list[cluster_index].append(d)\n",
    "\n",
    "        if np.array_equal(old_list,cluster_list):\n",
    "            return cluster_list, cluster_centroid, i\n",
    "        \n",
    "        cluster_centroid = find_mean(cluster_list, features)\n",
    "        old_list = cluster_list.copy() \n",
    "        \n",
    "    return cluster_list, cluster_centroid, i\n",
    "f_cluster_list, f_cluster_centroid, final_index = clustering(data_set, cluster_centroid, k)\n",
    "\n",
    "print(f_cluster_centroid)"
   ]
  },
  {
   "cell_type": "code",
   "execution_count": null,
   "id": "257c3aa3-92c5-4f0b-9a45-28809b71c256",
   "metadata": {},
   "outputs": [],
   "source": [
    "plt.figure(figsize=(8,8))\n",
    "for cluster in f_cluster_list:\n",
    "    cluster = np.array(cluster).T\n",
    "    plt.scatter(cluster[0], cluster[1], label=\"cluster_\"+str(i))\n",
    "    \n",
    "final_centroid = np.array(f_cluster_centroid).T\n",
    "plt.scatter(final_centroid[0], final_centroid[1], s=100, c='violet', marker='x', label=\"Centroids\")\n",
    "plt.legend()\n",
    "plt.title(f'K={k} results', size=15)\n",
    "plt.xlabel('Annual Income', size=12)\n",
    "plt.ylabel('Spending Score', size=12)\n",
    "plt.show()"
   ]
  },
  {
   "cell_type": "code",
   "execution_count": 249,
   "id": "53cf5197-ab85-46e5-819d-9b38b81cf083",
   "metadata": {},
   "outputs": [
    {
     "ename": "TypeError",
     "evalue": "unsupported operand type(s) for +: 'int' and 'list'",
     "output_type": "error",
     "traceback": [
      "\u001b[1;31m---------------------------------------------------------------------------\u001b[0m",
      "\u001b[1;31mTypeError\u001b[0m                                 Traceback (most recent call last)",
      "\u001b[1;32m~\\AppData\\Local\\Temp/ipykernel_12808/1540640134.py\u001b[0m in \u001b[0;36m<module>\u001b[1;34m\u001b[0m\n\u001b[0;32m      1\u001b[0m \u001b[0ma\u001b[0m \u001b[1;33m=\u001b[0m \u001b[1;33m[\u001b[0m\u001b[1;33m[\u001b[0m\u001b[1;36m1\u001b[0m\u001b[1;33m,\u001b[0m\u001b[1;36m2\u001b[0m\u001b[1;33m]\u001b[0m\u001b[1;33m,\u001b[0m\u001b[1;33m[\u001b[0m\u001b[1;36m3\u001b[0m\u001b[1;33m,\u001b[0m\u001b[1;36m4\u001b[0m\u001b[1;33m]\u001b[0m\u001b[1;33m]\u001b[0m\u001b[1;33m\u001b[0m\u001b[1;33m\u001b[0m\u001b[0m\n\u001b[1;32m----> 2\u001b[1;33m \u001b[0msum\u001b[0m\u001b[1;33m(\u001b[0m\u001b[0ma\u001b[0m\u001b[1;33m)\u001b[0m\u001b[1;33m\u001b[0m\u001b[1;33m\u001b[0m\u001b[0m\n\u001b[0m",
      "\u001b[1;31mTypeError\u001b[0m: unsupported operand type(s) for +: 'int' and 'list'"
     ]
    }
   ],
   "source": [
    "a = [[1,2],[3,4]]\n",
    "sum(a)"
   ]
  }
 ],
 "metadata": {
  "kernelspec": {
   "display_name": "Python 3 (ipykernel)",
   "language": "python",
   "name": "python3"
  },
  "language_info": {
   "codemirror_mode": {
    "name": "ipython",
    "version": 3
   },
   "file_extension": ".py",
   "mimetype": "text/x-python",
   "name": "python",
   "nbconvert_exporter": "python",
   "pygments_lexer": "ipython3",
   "version": "3.9.7"
  }
 },
 "nbformat": 4,
 "nbformat_minor": 5
}
