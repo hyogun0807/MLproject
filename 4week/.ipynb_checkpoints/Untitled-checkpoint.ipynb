{
 "cells": [
  {
   "cell_type": "code",
   "execution_count": 2,
   "id": "ce2a38d2-e0a0-4e9f-91ca-9dc312bbdfd1",
   "metadata": {},
   "outputs": [],
   "source": [
    "import numpy as np\n",
    "import pandas as pd\n",
    "import matplotlib.pyplot as plt\n",
    "\n",
    "from matplotlib import font_manager, rc"
   ]
  },
  {
   "cell_type": "code",
   "execution_count": 136,
   "id": "84a138dc-9dd5-4648-af18-63401f423e42",
   "metadata": {
    "tags": []
   },
   "outputs": [
    {
     "name": "stdout",
     "output_type": "stream",
     "text": [
      "==========================\n",
      "=          실습 #1       =\n",
      "==========================\n"
     ]
    }
   ],
   "source": [
    "print(\"==========================\")\n",
    "print(\"=          실습 #1       =\")\n",
    "print(\"==========================\")\n",
    "\n",
    "x_lin = np.linspace(-10, 10, 1000)\n",
    "\n",
    "def sigmoid(linear_equation):\n",
    "    return 1 / (1 + np.exp(-linear_equation))"
   ]
  },
  {
   "cell_type": "code",
   "execution_count": 108,
   "id": "4d2bec6b-eea9-43b7-845e-bc727d435805",
   "metadata": {},
   "outputs": [
    {
     "data": {
      "image/png": "[encoded data removed]",
      "text/plain": [
       "<Figure size 432x288 with 1 Axes>"
      ]
     },
     "metadata": {
      "needs_background": "light"
     },
     "output_type": "display_data"
    }
   ],
   "source": [
    "x_lin_sigmoid = sigmoid(x_lin)\n",
    "\n",
    "plt.title(\"(Sigmoid Function)\")\n",
    "plt.plot(x_lin, x_lin_sigmoid)\n",
    "plt.grid(True)"
   ]
  },
  {
   "cell_type": "code",
   "execution_count": 42,
   "id": "7c2e8b89-ccfd-486d-a8a5-e4459d9ac87d",
   "metadata": {},
   "outputs": [],
   "source": [
    "# 한글 폰트 설정\n",
    "#malgunbd.ttf\n",
    "font_path = \"C:\\Windows\\Fonts\\malgunbd.ttf\"\n",
    "font = font_manager.FontProperties(fname=font_path).get_name()\n",
    "rc('font', family=font)\n",
    "rc('axes', unicode_minus=False)"
   ]
  },
  {
   "cell_type": "code",
   "execution_count": 90,
   "id": "11c71e9a-ddd6-4f7c-8e91-949d8d9bf2cd",
   "metadata": {},
   "outputs": [
    {
     "name": "stdout",
     "output_type": "stream",
     "text": [
      "==========================\n",
      "=          실습 #2       =\n",
      "==========================\n",
      "데이터셋:\n",
      "    Weight  Gender\n",
      "0      26       0\n",
      "1      28       0\n",
      "2      35       0\n",
      "3      42       0\n",
      "4      51       0\n",
      "5      46       1\n",
      "6      54       1\n",
      "7      69       1\n",
      "8      76       1\n",
      "9      82       1\n"
     ]
    }
   ],
   "source": [
    "print(\"==========================\")\n",
    "print(\"=          실습 #2       =\")\n",
    "print(\"==========================\")\n",
    "\n",
    "# 데이터 셋 읽어들입니다.\n",
    "dataFrame = pd.read_csv(\"binary_data_insect.csv\")\n",
    "print(\"데이터셋:\\n\",dataFrame)\n",
    "\n",
    "data = dataFrame.to_numpy()\n",
    "male = np.array([x for x in data if x[1] == 0]).T\n",
    "female = np.array([x for x in data if x[1] == 1]).T"
   ]
  },
  {
   "cell_type": "code",
   "execution_count": 75,
   "id": "2e126df6-b685-4115-8cc3-c35e39d6a6ee",
   "metadata": {},
   "outputs": [
    {
     "data": {
      "image/png": "[encoded data removed]",
      "text/plain": [
       "<Figure size 432x288 with 1 Axes>"
      ]
     },
     "metadata": {
      "needs_background": "light"
     },
     "output_type": "display_data"
    }
   ],
   "source": [
    "plt.plot(male[0], male[1], 'b.', mfc='none', markersize=15, label=\"암컷\")\n",
    "plt.plot(female[0], female[1], 'r^', mfc='none', markersize=15, label=\"수컷\")\n",
    "plt.legend(loc=\"center right\")\n",
    "plt.yticks([-0.2,0,1, 1.2],[None,0,1,None])\n",
    "plt.xlabel(\"무게 [g]\")\n",
    "plt.ylabel(\"성별\")\n",
    "plt.grid()\n",
    "plt.show()"
   ]
  },
  {
   "cell_type": "code",
   "execution_count": 159,
   "id": "ef19ec30-808c-46da-98fb-e9c3c68e2989",
   "metadata": {},
   "outputs": [
    {
     "name": "stdout",
     "output_type": "stream",
     "text": [
      "==========================\n",
      "=          실습 #3       =\n",
      "==========================\n"
     ]
    }
   ],
   "source": [
    "print(\"==========================\")\n",
    "print(\"=          실습 #3       =\")\n",
    "print(\"==========================\")\n",
    "\n",
    "N = len(data)        # 데이터 갯수\n",
    "M = len(data[0]) - 1 # 특성 갯수 = 레이블 (1) + 특성(1) - 레이블(1)\n",
    "M_b = M + 1          # bias 추가한 값\n",
    "\n",
    "THRESHOLD = 0.5\n",
    "\n",
    "def probability_func(y):\n",
    "    return y > THRESHOLD\n",
    "\n",
    "def cross_entropy_loss(pb, y): # 사후확률, 예측값\n",
    "    cee = sum(y * np.log(pb) + (1-y)*np.log(1-pb)) \n",
    "    return -cee / N"
   ]
  },
  {
   "cell_type": "code",
   "execution_count": 134,
   "id": "7c210041-0e72-4228-8cf2-6b89f6d79b93",
   "metadata": {},
   "outputs": [
    {
     "name": "stdout",
     "output_type": "stream",
     "text": [
      "임의의 초기 theta값 : \n",
      "\tbias GD = -5.54126925, \n",
      "\tWeight GD = 0.11509211) \n",
      "초기 learning rate :  0.1\n",
      "초기 반복 값 :  200000\n"
     ]
    }
   ],
   "source": [
    "# 경사하강법\n",
    "\n",
    "# 초기 값\n",
    "LEARNING_RATE = 0.1\n",
    "N_ITER = 400000\n",
    "\n",
    "# 특성과 레이블 분리\n",
    "x = dataFrame[\"Weight\"]\n",
    "y = dataFrame[\"Gender\"]\n",
    "\n",
    "np.random.seed(85) # 이후 모든 출력 값을 동일하게 하기 위해 rand값 고정\n",
    "gd_theta = np.random.randn(M_b,) # 평균 0 표준편차 1인 정규분포따르는 -1~1사이값 가져옴\n",
    "# gd_theta = np.array([-5.54126925, 0.11509211])\n",
    "gd_theta *= 3  # -1~1의 값 증폭을 위한 값 (시그마값)\n",
    "print(\"임의의 초기 theta값 : \\n\\tbias GD = {}, \\n\\tWeight GD = {}) \".format(gd_theta[0], gd_theta[1]))\n",
    "print(\"초기 learning rate : \",LEARNING_RATE)\n",
    "print(\"초기 반복 값 : \", N_ITER)"
   ]
  },
  {
   "cell_type": "code",
   "execution_count": 160,
   "id": "09c98851-d070-41e1-952f-bbf67df59630",
   "metadata": {},
   "outputs": [
    {
     "data": {
      "text/plain": [
       "0.3022620696563361"
      ]
     },
     "execution_count": 160,
     "metadata": {},
     "output_type": "execute_result"
    }
   ],
   "source": [
    "x_b = np.c_[np.ones(N), x]\n",
    "zn = x_b.dot(gd_theta) # linear equation\n",
    "probability = sigmoid(zn) # after probability\n",
    "\n",
    "y_hat = probability_func(probability)\n",
    "cross_entropy_loss(probability, y) # state probability"
   ]
  },
  {
   "cell_type": "code",
   "execution_count": null,
   "id": "c4f24009-d7e6-49dd-8af9-1bc30e8213c0",
   "metadata": {},
   "outputs": [],
   "source": [
    "tolerance = 0.000001\n",
    "# 오차 계산 함수\n",
    "def isStop(now_th, before_th):\n",
    "    # 현재 theta와 befoe theta값에 절대값 사용하여\n",
    "    # 각각의 차이 중 큰 값이 오차 허용 값보다 작을 때 참을 반환\n",
    "    th_abs = np.abs(now_th) \n",
    "    before_th_abs = np.abs(before_th)\n",
    "    result = (abs(th_abs - before_th_abs).max() < tolerance)\n",
    "    return result\n",
    "\n",
    "def theta_gradient_descent(lr=LEARNING_RATE, epoch=N_ITER, th=gd_theta):\n",
    "    stop_iter = 0\n",
    "    \n",
    "    epoch_list  = [i for in range(epoch)]\n",
    "    th_list = []\n",
    "    cee_list = []\n",
    "    \n",
    "    for i in range(epoch):\n",
    "        before_th = th\n",
    "        \n",
    "        zn = x_b.dot(th) # linear equation\n",
    "        probability = sigmoid(zn)\n",
    "\n",
    "        # y_hat = probability_func(probability)\n",
    "        #cross_entropy_loss(probability, y_hat)\n",
    "        \n",
    "        # p = 1 + wx\n",
    "        for i in range(M_b):\n",
    "            discent = lr * 1/ N *sum((probability-y)*x_b[i])\n",
    "            th[i] = th[i] - discent\n",
    "        \n",
    "        cee = cross_entropy_loss(probability, y)\n",
    "        \n",
    "        th_list.append(th)\n",
    "        cee_list.append(cee)\n",
    "        \n",
    "        \n",
    "        # 가중치 값 비교를 하여 오차 범위보다 적은지 확인하는 함수 호출\n",
    "        if isStop(th, before_th):\n",
    "            # 오차 범위보다 적다면 멈추고 해당 횟수 저장\n",
    "            stop_iter = i+1\n",
    "            break\n",
    "\n",
    "    if stop_iter == 0:\n",
    "        stop_iter =  epoch\n",
    "        \n",
    "    \n",
    "    plt.plot(th_list[0], epoch_list, 'r-')\n",
    "    plt.plot(th_list[1], epoch_list, 'b-')\n",
    "    plt.xlabel(\"Epoch\")\n",
    "    plt.ylabel(\"weight\")\n",
    "    plt.show()\n",
    "    \n",
    "    plt.plot(cee_list, epoch_list, 'g-')\n",
    "    plt.xlabel(\"Epoch\")\n",
    "    plt.ylabel(\"CEE\")\n",
    "    plt.show()"
   ]
  }
 ],
 "metadata": {
  "kernelspec": {
   "display_name": "Python 3 (ipykernel)",
   "language": "python",
   "name": "python3"
  },
  "language_info": {
   "codemirror_mode": {
    "name": "ipython",
    "version": 3
   },
   "file_extension": ".py",
   "mimetype": "text/x-python",
   "name": "python",
   "nbconvert_exporter": "python",
   "pygments_lexer": "ipython3",
   "version": "3.9.7"
  }
 },
 "nbformat": 4,
 "nbformat_minor": 5
}
